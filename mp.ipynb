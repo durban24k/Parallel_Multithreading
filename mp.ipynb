{
 "cells": [
  {
   "cell_type": "code",
   "execution_count": null,
   "metadata": {},
   "outputs": [],
   "source": [
    "import numpy as np\n",
    "import matplotlib.pyplot as plt\n",
    "import time\n",
    "\n",
    "def square(i):\n",
    "    return i*i\n",
    "\n",
    "listTime=[]\n",
    "listNumbers=[]\n",
    "result=[]\n",
    "\n",
    "for i in range(10):\n",
    "    listNumbers.append(i)\n",
    "    start_time=time.time()\n",
    "    result.append(square(i))\n",
    "    end_time=time.time()\n",
    "    timeTaken=end_time - start_time\n",
    "    listTime.append(timeTaken)\n",
    "\n",
    "plt.scatter(listTime,result)\n",
    "plt.xlabel(\"Time\")\n",
    "plt.ylabel(\"Number\")\n",
    "plt.show()"
   ]
  },
  {
   "cell_type": "code",
   "execution_count": null,
   "metadata": {},
   "outputs": [],
   "source": [
    "import multiprocessing as mp\n",
    "\n",
    "ncores=mp.cpu_count()\n",
    "timelist=[]\n",
    "ans=[]\n",
    "pool=mp.Pool(ncores)\n",
    "\n",
    "for i in pool.map(square,range(20)):\n",
    "  start_time=time.time()\n",
    "  ans.append(i)\n",
    "  end_time=time.time()-start_time\n",
    "  timelist.append(end_time)\n",
    "\n",
    "plt.scatter(timelist,ans)"
   ]
  }
 ],
 "metadata": {
  "language_info": {
   "codemirror_mode": {
    "name": "ipython",
    "version": 3
   },
   "file_extension": ".py",
   "mimetype": "text/x-python",
   "name": "python",
   "nbconvert_exporter": "python",
   "pygments_lexer": "ipython3",
   "version": "3.8.3-final"
  },
  "orig_nbformat": 2,
  "kernelspec": {
   "name": "python_defaultSpec_1596094001522",
   "display_name": "Python 3.8.3 64-bit ('base': conda)"
  }
 },
 "nbformat": 4,
 "nbformat_minor": 2
}
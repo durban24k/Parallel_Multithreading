{
 "metadata": {
  "language_info": {
   "codemirror_mode": {
    "name": "ipython",
    "version": 3
   },
   "file_extension": ".py",
   "mimetype": "text/x-python",
   "name": "python",
   "nbconvert_exporter": "python",
   "pygments_lexer": "ipython3",
   "version": 3
  },
  "orig_nbformat": 2,
  "kernelspec": {
   "name": "python_defaultSpec_1596093436674",
   "display_name": "Python 3.8.3 64-bit ('base': conda)"
  }
 },
 "nbformat": 4,
 "nbformat_minor": 2,
 "cells": [
  {
   "cell_type": "code",
   "execution_count": 10,
   "metadata": {
    "tags": []
   },
   "outputs": [
    {
     "output_type": "stream",
     "name": "stdout",
     "text": "1000\n0\n4\nThe approximate area is:42.66668799999999\n"
    }
   ],
   "source": [
    "def f(x):\n",
    "    return 2*x*x\n",
    "\n",
    "n=int(input(\"Enter the number of sub intervals: \"))\n",
    "print(n)\n",
    "a=int(input(\"Enter the initial limit: \"))\n",
    "print(a)\n",
    "b=int(input(\"Enter the final limit: \"))\n",
    "print(b)\n",
    "\n",
    "sum=0\n",
    "h=(b-a)/n\n",
    "for i in range(n):\n",
    "    y=a+i*h\n",
    "    sum=sum+f(y)\n",
    "\n",
    "approx=(h/2)*(f(a)+f(b)+(2*sum))\n",
    "print(\"The approximate area is:\"+str(approx))"
   ]
  }
 ]
}
{
 "cells": [
  {
   "cell_type": "code",
   "execution_count": null,
   "metadata": {},
   "outputs": [],
   "source": [
    "import threading\n",
    "import time\n",
    "\n",
    "def thread_function(name):\n",
    "    print('Thread $s: starting',name)\n",
    "    time.sleep(2)\n",
    "    print('Thread $s: finishing',name)"
   ]
  },
  {
   "cell_type": "code",
   "execution_count": null,
   "metadata": {},
   "outputs": [],
   "source": [
    "if __name__=='__main__':\n",
    "  print('Main: Before running thread')\n",
    "  for i in range(10):\n",
    "    x=threading.Thread(target=thread_function, args=(i,))\n",
    "    x.start()\n",
    "    print('\\nMain: Wait for the thread to finish\\n')\n",
    "    x.join()\n",
    "print('Main: All done!!')"
   ]
  }
 ],
 "metadata": {
  "language_info": {
   "codemirror_mode": {
    "name": "ipython",
    "version": 3
   },
   "file_extension": ".py",
   "mimetype": "text/x-python",
   "name": "python",
   "nbconvert_exporter": "python",
   "pygments_lexer": "ipython3",
   "version": "3.8.3-final"
  },
  "orig_nbformat": 2,
  "kernelspec": {
   "name": "python_defaultSpec_1597132203757",
   "display_name": "Python 3.8.3 64-bit ('base': conda)"
  }
 },
 "nbformat": 4,
 "nbformat_minor": 2
}